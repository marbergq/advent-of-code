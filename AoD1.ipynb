{
 "cells": [
  {
   "cell_type": "code",
   "execution_count": 9,
   "metadata": {},
   "outputs": [],
   "source": [
    "from math import floor"
   ]
  },
  {
   "cell_type": "code",
   "execution_count": 11,
   "metadata": {},
   "outputs": [],
   "source": [
    "puzzle_input = [128398,\n",
    "118177,\n",
    "139790,\n",
    "84818,\n",
    "75859,\n",
    "139920,\n",
    "90212,\n",
    "74975,\n",
    "120844,\n",
    "85533,\n",
    "77851,\n",
    "127044,\n",
    "128094,\n",
    "77724,\n",
    "81951,\n",
    "115804,\n",
    "60506,\n",
    "65055,\n",
    "52549,\n",
    "108749,\n",
    "92367,\n",
    "53974,\n",
    "52896,\n",
    "66403,\n",
    "93539,\n",
    "118392,\n",
    "78768,\n",
    "128172,\n",
    "85643,\n",
    "109508,\n",
    "104742,\n",
    "71305,\n",
    "84558,\n",
    "68640,\n",
    "58328,\n",
    "58404,\n",
    "70131,\n",
    "73745,\n",
    "149553,\n",
    "57511,\n",
    "119045,\n",
    "90210,\n",
    "129537,\n",
    "114869,\n",
    "113353,\n",
    "114181,\n",
    "130737,\n",
    "134877,\n",
    "90983,\n",
    "84361,\n",
    "62750,\n",
    "114532,\n",
    "139233,\n",
    "139804,\n",
    "130391,\n",
    "144731,\n",
    "84309,\n",
    "137050,\n",
    "79866,\n",
    "121266,\n",
    "93502,\n",
    "132060,\n",
    "109190,\n",
    "61326,\n",
    "58826,\n",
    "129305,\n",
    "141059,\n",
    "143017,\n",
    "56552,\n",
    "102142,\n",
    "110604,\n",
    "136052,\n",
    "93872,\n",
    "71951,\n",
    "72954,\n",
    "70701,\n",
    "137381,\n",
    "76580,\n",
    "62535,\n",
    "62666,\n",
    "126366,\n",
    "66361,\n",
    "109076,\n",
    "126230,\n",
    "73367,\n",
    "94459,\n",
    "126314,\n",
    "133327,\n",
    "143771,\n",
    "50752,\n",
    "75607,\n",
    "117606,\n",
    "142366,\n",
    "59068,\n",
    "75574,\n",
    "149836,\n",
    "57058,\n",
    "77622,\n",
    "83276,\n",
    "82734]"
   ]
  },
  {
   "cell_type": "code",
   "execution_count": 12,
   "metadata": {},
   "outputs": [],
   "source": [
    "def calculate_fuel(mass):\n",
    "    return floor(mass/3) -2"
   ]
  },
  {
   "cell_type": "code",
   "execution_count": 8,
   "metadata": {},
   "outputs": [
    {
     "data": {
      "text/plain": [
       "33583"
      ]
     },
     "execution_count": 8,
     "metadata": {},
     "output_type": "execute_result"
    }
   ],
   "source": [
    "calculate_fuel(100756)"
   ]
  },
  {
   "cell_type": "code",
   "execution_count": 14,
   "metadata": {},
   "outputs": [
    {
     "data": {
      "text/plain": [
       "3266288"
      ]
     },
     "execution_count": 14,
     "metadata": {},
     "output_type": "execute_result"
    }
   ],
   "source": [
    "import functools \n",
    "\n",
    "functools.reduce(lambda a,b: a+b,map(lambda x: calculate_fuel(x) ,puzzle_input))"
   ]
  },
  {
   "cell_type": "code",
   "execution_count": 20,
   "metadata": {},
   "outputs": [],
   "source": [
    "def calculate_recursive_fuel(mass):\n",
    "    fuels = []\n",
    "    while True:\n",
    "        fuel = calculate_fuel(mass)\n",
    "        if fuel > 0:\n",
    "            fuels+=[fuel]\n",
    "            mass = fuel\n",
    "        else: \n",
    "            break\n",
    "    return fuels"
   ]
  },
  {
   "cell_type": "code",
   "execution_count": 22,
   "metadata": {},
   "outputs": [
    {
     "data": {
      "text/plain": [
       "[33583, 11192, 3728, 1240, 411, 135, 43, 12, 2]"
      ]
     },
     "execution_count": 22,
     "metadata": {},
     "output_type": "execute_result"
    }
   ],
   "source": [
    "calculate_recursive_fuel(100756)"
   ]
  },
  {
   "cell_type": "code",
   "execution_count": 24,
   "metadata": {},
   "outputs": [],
   "source": [
    "puzzle_input_2 = [128398,\n",
    "118177,\n",
    "139790,\n",
    "84818,\n",
    "75859,\n",
    "139920,\n",
    "90212,\n",
    "74975,\n",
    "120844,\n",
    "85533,\n",
    "77851,\n",
    "127044,\n",
    "128094,\n",
    "77724,\n",
    "81951,\n",
    "115804,\n",
    "60506,\n",
    "65055,\n",
    "52549,\n",
    "108749,\n",
    "92367,\n",
    "53974,\n",
    "52896,\n",
    "66403,\n",
    "93539,\n",
    "118392,\n",
    "78768,\n",
    "128172,\n",
    "85643,\n",
    "109508,\n",
    "104742,\n",
    "71305,\n",
    "84558,\n",
    "68640,\n",
    "58328,\n",
    "58404,\n",
    "70131,\n",
    "73745,\n",
    "149553,\n",
    "57511,\n",
    "119045,\n",
    "90210,\n",
    "129537,\n",
    "114869,\n",
    "113353,\n",
    "114181,\n",
    "130737,\n",
    "134877,\n",
    "90983,\n",
    "84361,\n",
    "62750,\n",
    "114532,\n",
    "139233,\n",
    "139804,\n",
    "130391,\n",
    "144731,\n",
    "84309,\n",
    "137050,\n",
    "79866,\n",
    "121266,\n",
    "93502,\n",
    "132060,\n",
    "109190,\n",
    "61326,\n",
    "58826,\n",
    "129305,\n",
    "141059,\n",
    "143017,\n",
    "56552,\n",
    "102142,\n",
    "110604,\n",
    "136052,\n",
    "93872,\n",
    "71951,\n",
    "72954,\n",
    "70701,\n",
    "137381,\n",
    "76580,\n",
    "62535,\n",
    "62666,\n",
    "126366,\n",
    "66361,\n",
    "109076,\n",
    "126230,\n",
    "73367,\n",
    "94459,\n",
    "126314,\n",
    "133327,\n",
    "143771,\n",
    "50752,\n",
    "75607,\n",
    "117606,\n",
    "142366,\n",
    "59068,\n",
    "75574,\n",
    "149836,\n",
    "57058,\n",
    "77622,\n",
    "83276,\n",
    "82734]"
   ]
  },
  {
   "cell_type": "code",
   "execution_count": 26,
   "metadata": {},
   "outputs": [
    {
     "data": {
      "text/plain": [
       "4896582"
      ]
     },
     "execution_count": 26,
     "metadata": {},
     "output_type": "execute_result"
    }
   ],
   "source": [
    "functools.reduce(lambda a,b: a+b,map(lambda x: sum(calculate_recursive_fuel(x)) ,puzzle_input_2))"
   ]
  },
  {
   "cell_type": "code",
   "execution_count": null,
   "metadata": {},
   "outputs": [],
   "source": []
  }
 ],
 "metadata": {
  "kernelspec": {
   "display_name": "tf_dml_gpu",
   "language": "python",
   "name": "tf_dml_gpu"
  },
  "language_info": {
   "codemirror_mode": {
    "name": "ipython",
    "version": 3
   },
   "file_extension": ".py",
   "mimetype": "text/x-python",
   "name": "python",
   "nbconvert_exporter": "python",
   "pygments_lexer": "ipython3",
   "version": "3.7.3"
  }
 },
 "nbformat": 4,
 "nbformat_minor": 2
}
