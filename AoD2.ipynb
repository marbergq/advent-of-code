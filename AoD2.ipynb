{
 "cells": [
  {
   "cell_type": "markdown",
   "metadata": {},
   "source": [
    "## Day 2 Martin\n"
   ]
  },
  {
   "cell_type": "code",
   "execution_count": 10,
   "metadata": {},
   "outputs": [],
   "source": [
    "puzzle_input = [1,12,2,3,1,1,2,3,1,3,4,3,1,5,0,3,2,13,1,19,1,6,19,23,2,23,6,27,1,5,27,31,1,10,31,35,2,6,35,39,1,39,13,43,1,43,9,47,2,47,10,51,1,5,51,55,1,55,10,59,2,59,6,63,2,6,63,67,1,5,67,71,2,9,71,75,1,75,6,79,1,6,79,83,2,83,9,87,2,87,13,91,1,10,91,95,1,95,13,99,2,13,99,103,1,103,10,107,2,107,10,111,1,111,9,115,1,115,2,119,1,9,119,0,99,2,0,14,0]\n"
   ]
  },
  {
   "cell_type": "code",
   "execution_count": 11,
   "metadata": {},
   "outputs": [],
   "source": [
    "operations = {\n",
    "    1 : lambda op1, op2: op1 + op2,\n",
    "    2 : lambda op1, op2: op1 * op2,\n",
    "}\n",
    "\n",
    "pos_1_index, pos_2_index, result_index, end_code = 1,2,3, 99\n",
    "\n",
    "def execute(opcodes):\n",
    "    index = 0\n",
    "    while opcodes[index] is not end_code:\n",
    "        opcodes[opcodes[result_index + index]] = operations[opcodes[index]](opcodes[opcodes[pos_1_index + index]],opcodes[opcodes[pos_2_index + index]])\n",
    "        index += 4\n",
    "    return opcodes"
   ]
  },
  {
   "cell_type": "code",
   "execution_count": 12,
   "metadata": {},
   "outputs": [],
   "source": [
    "def tests_mini():\n",
    "    assert [2,0,0,0,99] == execute([1,0,0,0,99])\n",
    "    assert [2,3,0,6,99] == execute([2,3,0,3,99])\n",
    "    assert [2,4,4,5,99,9801] == execute([2,4,4,5,99,0])\n",
    "    assert [30,1,1,4,2,5,6,0,99] == execute([1,1,1,4,99,5,6,0,99])"
   ]
  },
  {
   "cell_type": "code",
   "execution_count": 13,
   "metadata": {},
   "outputs": [],
   "source": [
    "tests_mini()"
   ]
  },
  {
   "cell_type": "code",
   "execution_count": 14,
   "metadata": {},
   "outputs": [
    {
     "name": "stdout",
     "output_type": "stream",
     "text": [
      "Output:  3850704\n"
     ]
    }
   ],
   "source": [
    "print('Output: ' , execute(puzzle_input)[0])"
   ]
  },
  {
   "cell_type": "code",
   "execution_count": null,
   "metadata": {},
   "outputs": [],
   "source": []
  }
 ],
 "metadata": {
  "kernelspec": {
   "display_name": "tf_dml_gpu",
   "language": "python",
   "name": "tf_dml_gpu"
  },
  "language_info": {
   "codemirror_mode": {
    "name": "ipython",
    "version": 3
   },
   "file_extension": ".py",
   "mimetype": "text/x-python",
   "name": "python",
   "nbconvert_exporter": "python",
   "pygments_lexer": "ipython3",
   "version": "3.7.3"
  }
 },
 "nbformat": 4,
 "nbformat_minor": 2
}
