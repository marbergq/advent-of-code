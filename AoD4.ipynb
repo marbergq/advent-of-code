{
 "cells": [
  {
   "cell_type": "markdown",
   "metadata": {},
   "source": [
    "## Day 4\n"
   ]
  },
  {
   "cell_type": "code",
   "execution_count": 117,
   "metadata": {},
   "outputs": [],
   "source": [
    "from collections import Counter\n",
    "\n",
    "def get_duplicates(counts):\n",
    "    return sorted([int(k) for k,v in counts.items() if v > 1])\n",
    "\n",
    "def has_duplicates(counts):\n",
    "    return len(get_duplicates(counts)) > 0\n",
    "\n",
    "def duplicates_is_increasing(counts):\n",
    "    dups = get_duplicates(counts)\n",
    "\n",
    "def get_indicices(candidate, char):\n",
    "    return [i for i, x in enumerate(candidate) if x == char]\n",
    "\n",
    "def two_adjecent_is_the_same(candidate, duplicates, max_repeates=100000):\n",
    "    for c in duplicates:\n",
    "        indicies = get_indicices(candidate, str(c))\n",
    "        for indices_idx in range(len(indicies)-1):\n",
    "            if indicies[indices_idx]+1 == indicies[indices_idx+1] and len(indicies) <= max_repeates:\n",
    "                return True\n",
    "    return False\n",
    "\n",
    "def digits_only_increase(candidate):\n",
    "    for i in range(len(candidate)-1):\n",
    "            if int(candidate[i]) > int(candidate[i+1]):\n",
    "                return False\n",
    "    return True\n",
    "\n",
    "def get_candidates(start=183564, end=657474, max_nr_duplicates=10000):\n",
    "    counter = 0\n",
    "    for candidate in range(start,end):\n",
    "        str_candidate = str(candidate)\n",
    "        counts = Counter(str_candidate)\n",
    "        duplicates = get_duplicates(counts)\n",
    "        \n",
    "        if not len(duplicates) > 0: \n",
    "            continue\n",
    "        if not digits_only_increase(str_candidate):\n",
    "            continue\n",
    "        if not two_adjecent_is_the_same(str_candidate, duplicates, max_nr_duplicates):\n",
    "            continue\n",
    "        counter += 1\n",
    "    \n",
    "    return counter       \n",
    "            "
   ]
  },
  {
   "cell_type": "code",
   "execution_count": 119,
   "metadata": {},
   "outputs": [
    {
     "data": {
      "text/plain": [
       "1104"
      ]
     },
     "execution_count": 119,
     "metadata": {},
     "output_type": "execute_result"
    }
   ],
   "source": [
    "get_candidates(start=183564, end=657474, max_nr_duplicates=2)"
   ]
  },
  {
   "cell_type": "code",
   "execution_count": null,
   "metadata": {},
   "outputs": [],
   "source": []
  }
 ],
 "metadata": {
  "kernelspec": {
   "display_name": "Python 3",
   "language": "python",
   "name": "python3"
  },
  "language_info": {
   "codemirror_mode": {
    "name": "ipython",
    "version": 3
   },
   "file_extension": ".py",
   "mimetype": "text/x-python",
   "name": "python",
   "nbconvert_exporter": "python",
   "pygments_lexer": "ipython3",
   "version": "3.7.4"
  }
 },
 "nbformat": 4,
 "nbformat_minor": 2
}
